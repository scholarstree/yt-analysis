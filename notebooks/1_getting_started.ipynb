{
 "cells": [
  {
   "cell_type": "markdown",
   "metadata": {},
   "source": [
    "## Download YouTube Video\n"
   ]
  },
  {
   "cell_type": "code",
   "execution_count": null,
   "metadata": {},
   "outputs": [
    {
     "name": "stdout",
     "output_type": "stream",
     "text": [
      "[youtube] Extracting URL: https://www.youtube.com/watch?v=VoJVcu52a3Q\n",
      "[youtube] VoJVcu52a3Q: Downloading webpage\n",
      "[youtube] VoJVcu52a3Q: Downloading tv client config\n",
      "[youtube] VoJVcu52a3Q: Downloading player f6e09c70\n",
      "[youtube] VoJVcu52a3Q: Downloading tv player API JSON\n",
      "[youtube] VoJVcu52a3Q: Downloading ios player API JSON\n",
      "[youtube] VoJVcu52a3Q: Downloading m3u8 information\n",
      "[info] VoJVcu52a3Q: Downloading 1 format(s): 136+251\n",
      "[download] Destination: ../downloads/Thomas the tank Engine travels Japan[MMD].f136.mp4\n",
      "[download] 100% of   15.76MiB in 00:00:01 at 13.95MiB/s    \n",
      "[download] Destination: ../downloads/Thomas the tank Engine travels Japan[MMD].f251.webm\n",
      "[download] 100% of    2.03MiB in 00:00:00 at 9.80MiB/s     \n",
      "[Merger] Merging formats into \"../downloads/Thomas the tank Engine travels Japan[MMD].mp4\"\n",
      "Deleting original file ../downloads/Thomas the tank Engine travels Japan[MMD].f136.mp4 (pass -k to keep)\n",
      "Deleting original file ../downloads/Thomas the tank Engine travels Japan[MMD].f251.webm (pass -k to keep)\n"
     ]
    }
   ],
   "source": [
    "import yt_dlp\n",
    "import os\n",
    "\n",
    "output_path=\"../downloads\"\n",
    "\n",
    "# Create output path if it doesn't exist\n",
    "if not os.path.exists(output_path):\n",
    "    os.makedirs(output_path)\n",
    "\n",
    "ydl_opts = {\n",
    "    'format': 'bestvideo[height<=1080][vcodec^=avc1]+bestaudio/best[height<=1080][vcodec^=avc1]',\n",
    "    'merge_output_format': 'mp4',\n",
    "    'outtmpl': f\"{output_path}/%(title)s.%(ext)s\",\n",
    "}\n",
    "def download_video(url, ydl_opts=ydl_opts):\n",
    "    with yt_dlp.YoutubeDL(ydl_opts) as ydl:\n",
    "        ydl.download([url])\n",
    "\n",
    "video_url = \"https://www.youtube.com/watch?v=VoJVcu52a3Q\"\n",
    "download_video(video_url)"
   ]
  },
  {
   "cell_type": "markdown",
   "metadata": {},
   "source": [
    "## Extract a Batch of Frames from Video\n"
   ]
  },
  {
   "cell_type": "code",
   "execution_count": 2,
   "metadata": {},
   "outputs": [
    {
     "name": "stdout",
     "output_type": "stream",
     "text": [
      "Video FPS: 29.97002997002997\n",
      "Frame Skip Interval: 2\n",
      "Frame Batch Shape: (8, 720, 1280, 3)\n",
      "Frame Indexes: [0, 3, 6, 9, 12, 15, 18, 21]\n",
      "Seek Times: [0.0, 0.1, 0.2, 0.3, 0.4, 0.5, 0.6, 0.7]\n"
     ]
    }
   ],
   "source": [
    "from decord import VideoReader, cpu\n",
    "import numpy as np\n",
    "from datetime import datetime, timedelta\n",
    "\n",
    "def extract_video_frames_in_batches(video_path, frame_skip_interval=5, batch_size=5):\n",
    "    \"\"\"\n",
    "    Generator function that extracts frames from a video at a specified frame skip interval and yields them in batches.\n",
    "\n",
    "    Args:\n",
    "        video_path (str): Path to the video file.\n",
    "        frame_skip_interval (int): Number of frames to skip between extractions.\n",
    "        batch_size (int): Number of frames per batch.\n",
    "        video_start_time (datetime, optional): The start time of the video for timestamp calculation.\n",
    "            If None, the timestamps will be relative (from 00:00:00).\n",
    "\n",
    "    Yields:\n",
    "        tuple: A tuple containing:\n",
    "            - np.ndarray: A batch of extracted video frames.\n",
    "            - list: The corresponding frame indexes.\n",
    "            - list: The corresponding timestamps in MongoDB ISODate format.\n",
    "    \"\"\"\n",
    "    video_reader = VideoReader(video_path, ctx=cpu(0))\n",
    "    video_fps = video_reader.get_avg_fps()  # Get actual FPS of the video\n",
    "    print(\"Video FPS:\", video_fps)\n",
    "    print(\"Frame Skip Interval:\", frame_skip_interval)\n",
    "\n",
    "    frame_batch = []\n",
    "    frame_indexes = []\n",
    "    seek_times = []\n",
    "    \n",
    "    # Generate the list of frame indices to extract based on frame skipping interval\n",
    "    selected_frame_indexes = list(range(0, len(video_reader), frame_skip_interval + 1))\n",
    "\n",
    "    for frame_index in selected_frame_indexes:\n",
    "        frame = video_reader[frame_index].asnumpy()  # Convert to NumPy array\n",
    "        frame_batch.append(frame)\n",
    "        frame_indexes.append(frame_index)  # Store actual frame index\n",
    "        \n",
    "        # Calculate seek time based on frame index and video FPS\n",
    "        seek_time = round(frame_index / video_fps, 2)\n",
    "        seek_times.append(seek_time)\n",
    "        \n",
    "        # Yield batch when it reaches the specified size\n",
    "        if len(frame_batch) == batch_size:\n",
    "            yield np.array(frame_batch), frame_indexes, seek_times\n",
    "            frame_batch = []  # Reset batch\n",
    "            frame_indexes = []\n",
    "            seek_times = []\n",
    "    \n",
    "    # Yield any remaining frames in the last batch\n",
    "    if frame_batch:\n",
    "        yield np.array(frame_batch), frame_indexes, seek_times\n",
    "\n",
    "# Example Usage\n",
    "video_file_path = \"../downloads/Thomas the tank Engine travels Japan[MMD].mp4\"\n",
    "frame_skip_interval = 2  # Skip 10 frames between each extraction\n",
    "batch_size = 8  # Extract frames in batches of 3\n",
    "\n",
    "frame_generator = extract_video_frames_in_batches(video_file_path, frame_skip_interval, batch_size)\n",
    "\n",
    "frame_batch, frame_indexes, seek_times = next(frame_generator)  # Retrieve first batch of frames\n",
    "print(\"Frame Batch Shape:\", frame_batch.shape)  # (batch_size, height, width, 3)\n",
    "print(\"Frame Indexes:\", frame_indexes)\n",
    "print(\"Seek Times:\", seek_times)\n"
   ]
  },
  {
   "cell_type": "markdown",
   "metadata": {},
   "source": [
    "# Create Embeddings for Extracted Frames\n"
   ]
  },
  {
   "cell_type": "code",
   "execution_count": 14,
   "metadata": {},
   "outputs": [
    {
     "name": "stdout",
     "output_type": "stream",
     "text": [
      "torch.Size([8, 768])\n"
     ]
    }
   ],
   "source": [
    "import torch\n",
    "from PIL import Image\n",
    "import requests\n",
    "from transformers import AutoProcessor, AutoModel\n",
    "\n",
    "# Check if GPU is available\n",
    "device = torch.device(\"cuda\" if torch.cuda.is_available() else \"cpu\")\n",
    "\n",
    "# Load model and processor\n",
    "model = AutoModel.from_pretrained(\"google/siglip2-base-patch16-naflex\").to(device)\n",
    "processor = AutoProcessor.from_pretrained(\"google/siglip2-base-patch16-naflex\")\n",
    "\n",
    "# Prepare inputs (assuming frame_batch is a list of PIL images)\n",
    "inputs = processor(images=frame_batch, return_tensors=\"pt\").to(device)\n",
    "\n",
    "# Perform inference on GPU\n",
    "with torch.no_grad():\n",
    "    frame_batch_embeddings = model.get_image_features(**inputs)\n",
    "\n",
    "print(frame_batch_embeddings.shape) "
   ]
  },
  {
   "cell_type": "code",
   "execution_count": 16,
   "metadata": {},
   "outputs": [],
   "source": [
    "float32_embeddings = frame_batch_embeddings.cpu().numpy().astype(np.float32)"
   ]
  },
  {
   "cell_type": "code",
   "execution_count": 17,
   "metadata": {},
   "outputs": [],
   "source": [
    "from bson.binary import Binary\n",
    "from bson.binary import BinaryVectorDtype\n",
    "\n",
    "# Generate BSON vector using `BinaryVectorDtype`\n",
    "def generate_bson_vector(vector, vector_dtype):\n",
    "    return Binary.from_vector(vector, vector_dtype)\n",
    "\n",
    "bson_float32_embeddings = []\n",
    "for f32_emb in float32_embeddings:\n",
    "    bson_float32_embeddings.append(generate_bson_vector(f32_emb, BinaryVectorDtype.FLOAT32))"
   ]
  },
  {
   "cell_type": "markdown",
   "metadata": {},
   "source": [
    "## MongoDB Connection\n"
   ]
  },
  {
   "cell_type": "code",
   "execution_count": 19,
   "metadata": {},
   "outputs": [
    {
     "name": "stdout",
     "output_type": "stream",
     "text": [
      "Connected to MongoDB successfully!\n",
      "Databases:\n",
      "admin\n",
      "config\n",
      "local\n",
      "video_analysis\n",
      "\n",
      "Collections in video_analysis database:\n",
      "frames\n"
     ]
    }
   ],
   "source": [
    "from pymongo import MongoClient\n",
    "from pymongo.errors import ConnectionFailure\n",
    "from dotenv import load_dotenv\n",
    "import os\n",
    "\n",
    "# Load environment variables from .env file\n",
    "load_dotenv()\n",
    "\n",
    "# Get MongoDB URI\n",
    "MONGODB_URI = os.getenv(\"MONGODB_URI\")\n",
    "\n",
    "client = MongoClient(MONGODB_URI)\n",
    "print(\"Connected to MongoDB successfully!\")\n",
    "\n",
    "# # List all databases\n",
    "databases = client.list_database_names()\n",
    "print(\"Databases:\")\n",
    "for db in databases:\n",
    "    print(db)\n",
    "\n",
    "# Access the video_analysis database\n",
    "db = client['video_analysis']\n",
    "\n",
    "# List all collections in the video_analysis database\n",
    "print()\n",
    "collections = db.list_collection_names()\n",
    "print(\"Collections in video_analysis database:\")\n",
    "for collection in collections:\n",
    "    print(collection)"
   ]
  },
  {
   "cell_type": "markdown",
   "metadata": {},
   "source": [
    "# Store Frame Data in DB\n"
   ]
  },
  {
   "cell_type": "code",
   "execution_count": 21,
   "metadata": {},
   "outputs": [
    {
     "name": "stdout",
     "output_type": "stream",
     "text": [
      "Number of Frames in Collection: 16\n"
     ]
    }
   ],
   "source": [
    "# Define the collection\n",
    "frames_collection = db['frames']\n",
    "\n",
    "# Insert the first batch of frames into the frames collection\n",
    "docs = []\n",
    "for frame_index, seek_time, embedding in zip(frame_indexes, seek_times, bson_float32_embeddings):\n",
    "    doc = {\n",
    "        \"frame_index\": frame_index,\n",
    "        \"seek_time\": seek_time,\n",
    "        \"embedding\": embedding,\n",
    "    }\n",
    "    docs.append(doc)\n",
    "\n",
    "frames_collection.insert_many(docs)\n",
    "\n",
    "# Count the number of documents in the frames collection\n",
    "num_frames = frames_collection.count_documents({})\n",
    "print(\"Number of Frames in Collection:\", num_frames)\n"
   ]
  }
 ],
 "metadata": {
  "kernelspec": {
   "display_name": "llm",
   "language": "python",
   "name": "python3"
  },
  "language_info": {
   "codemirror_mode": {
    "name": "ipython",
    "version": 3
   },
   "file_extension": ".py",
   "mimetype": "text/x-python",
   "name": "python",
   "nbconvert_exporter": "python",
   "pygments_lexer": "ipython3",
   "version": "3.11.7"
  }
 },
 "nbformat": 4,
 "nbformat_minor": 2
}
